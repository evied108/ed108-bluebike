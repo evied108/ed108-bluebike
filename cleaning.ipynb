{
 "cells": [
  {
   "cell_type": "markdown",
   "metadata": {},
   "source": [
    "## HW 6: DS 340H\n",
    "Research question: Is there any correlation between the number of Bluebike rides and their average duration and the number of Commuter Rail rides in a sample of Bluebike and Computer Rail rides from July 2018-January 2025?"
   ]
  },
  {
   "cell_type": "code",
   "execution_count": 40,
   "metadata": {},
   "outputs": [],
   "source": [
    "import nbconvert\n",
    "from datetime import datetime\n",
    "import csv\n",
    "import pandas as pd\n",
    "import seaborn as sns\n",
    "import matplotlib.pyplot as plt\n",
    "from pathlib import Path\n"
   ]
  },
  {
   "cell_type": "code",
   "execution_count": 3,
   "metadata": {},
   "outputs": [
    {
     "data": {
      "text/html": [
       "<div>\n",
       "<style scoped>\n",
       "    .dataframe tbody tr th:only-of-type {\n",
       "        vertical-align: middle;\n",
       "    }\n",
       "\n",
       "    .dataframe tbody tr th {\n",
       "        vertical-align: top;\n",
       "    }\n",
       "\n",
       "    .dataframe thead th {\n",
       "        text-align: right;\n",
       "    }\n",
       "</style>\n",
       "<table border=\"1\" class=\"dataframe\">\n",
       "  <thead>\n",
       "    <tr style=\"text-align: right;\">\n",
       "      <th></th>\n",
       "      <th>month_of_service</th>\n",
       "      <th>daytype</th>\n",
       "      <th>route_or_line</th>\n",
       "      <th>ridership_total</th>\n",
       "    </tr>\n",
       "  </thead>\n",
       "  <tbody>\n",
       "    <tr>\n",
       "      <th>0</th>\n",
       "      <td>2024/12/01 05:00:00+00</td>\n",
       "      <td>Weekday</td>\n",
       "      <td>Blue Line</td>\n",
       "      <td>905115</td>\n",
       "    </tr>\n",
       "    <tr>\n",
       "      <th>1</th>\n",
       "      <td>2024/12/01 05:00:00+00</td>\n",
       "      <td>Weekday</td>\n",
       "      <td>Orange Line</td>\n",
       "      <td>2208993</td>\n",
       "    </tr>\n",
       "    <tr>\n",
       "      <th>2</th>\n",
       "      <td>2024/12/01 05:00:00+00</td>\n",
       "      <td>Weekday</td>\n",
       "      <td>Red Line</td>\n",
       "      <td>2367621</td>\n",
       "    </tr>\n",
       "    <tr>\n",
       "      <th>3</th>\n",
       "      <td>2024/12/01 05:00:00+00</td>\n",
       "      <td>Weekday</td>\n",
       "      <td>Heavy Rail</td>\n",
       "      <td>5481728</td>\n",
       "    </tr>\n",
       "    <tr>\n",
       "      <th>4</th>\n",
       "      <td>2024/12/01 05:00:00+00</td>\n",
       "      <td>Weekday</td>\n",
       "      <td>Green Line</td>\n",
       "      <td>1670698</td>\n",
       "    </tr>\n",
       "  </tbody>\n",
       "</table>\n",
       "</div>"
      ],
      "text/plain": [
       "         month_of_service  daytype route_or_line ridership_total\n",
       "0  2024/12/01 05:00:00+00  Weekday     Blue Line          905115\n",
       "1  2024/12/01 05:00:00+00  Weekday   Orange Line         2208993\n",
       "2  2024/12/01 05:00:00+00  Weekday      Red Line         2367621\n",
       "3  2024/12/01 05:00:00+00  Weekday    Heavy Rail         5481728\n",
       "4  2024/12/01 05:00:00+00  Weekday    Green Line         1670698"
      ]
     },
     "execution_count": 3,
     "metadata": {},
     "output_type": "execute_result"
    }
   ],
   "source": [
    "with open('mbta.csv','r',newline='') as file:\n",
    "    data = csv.DictReader(file)\n",
    "    mbta = pd.DataFrame(data)\n",
    "\n",
    "mbta.drop(['daycount', 'ridership_average', 'ObjectId'], axis=1, inplace=True)\n",
    "mbta.rename(columns={'\\ufeffmonth_of_service':'month_of_service'}, inplace=True)\n",
    "# mbta['year'] = mbta['month'].apply(lambda x: x[0:4])\n",
    "\n",
    "# mbta['month'] = mbta['month'].apply(lambda x: x[5:7])\n",
    "mbta.head()"
   ]
  },
  {
   "cell_type": "markdown",
   "metadata": {},
   "source": [
    "Filtering selected mbta lines:"
   ]
  },
  {
   "cell_type": "code",
   "execution_count": null,
   "metadata": {},
   "outputs": [],
   "source": [
    "selected_lines = ['Blue Line', 'Orange Line', 'Red Line', 'Green Line']\n",
    "\n",
    "# Filter the dataset based on the 'route_or_line' column\n",
    "filtered_mbta = mbta[mbta['route_or_line'].isin(selected_lines)]"
   ]
  },
  {
   "cell_type": "markdown",
   "metadata": {},
   "source": [
    "Selecting only the total values for the daytype, and eliminating the daytype as a variable:"
   ]
  },
  {
   "cell_type": "code",
   "execution_count": 14,
   "metadata": {},
   "outputs": [
    {
     "name": "stderr",
     "output_type": "stream",
     "text": [
      "/var/folders/8g/pmfcwbg561xgw6b04jzwczp00000gn/T/ipykernel_64443/2115895493.py:2: SettingWithCopyWarning: \n",
      "A value is trying to be set on a copy of a slice from a DataFrame\n",
      "\n",
      "See the caveats in the documentation: https://pandas.pydata.org/pandas-docs/stable/user_guide/indexing.html#returning-a-view-versus-a-copy\n",
      "  mbta_final.drop('daytype', axis=1, inplace=True)\n"
     ]
    }
   ],
   "source": [
    "mbta_final = filtered_mbta[filtered_mbta['daytype'] == 'Total']\n",
    "mbta_final.drop('daytype', axis=1, inplace=True)\n"
   ]
  },
  {
   "cell_type": "markdown",
   "metadata": {},
   "source": [
    "Code to pivot the MBTA dataset so that each line has its own column:"
   ]
  },
  {
   "cell_type": "code",
   "execution_count": 17,
   "metadata": {},
   "outputs": [],
   "source": [
    "wide_df = mbta_final.pivot(index='month_of_service', columns='route_or_line', values='ridership_total')\n",
    "wide_df.columns = [f\"{line.lower().replace(' ', '_')}_riders\" for line in wide_df.columns]\n",
    "wide_df = wide_df.reset_index()"
   ]
  },
  {
   "cell_type": "markdown",
   "metadata": {},
   "source": [
    "Gathers the total ride counts and average trip duration from the bluebike files:"
   ]
  },
  {
   "cell_type": "code",
   "execution_count": 57,
   "metadata": {},
   "outputs": [
    {
     "name": "stdout",
     "output_type": "stream",
     "text": [
      "Using 'started_at' and 'ended_at' columns in 202407-bluebikes-tripdata.csv\n",
      "Using 'started_at' and 'ended_at' columns in 202501-bluebikes-tripdata.csv\n",
      "Using 'started_at' and 'ended_at' columns in 202310-bluebikes-tripdata.csv\n",
      "Using 'started_at' and 'ended_at' columns in 202409-bluebikes-tripdata.csv\n",
      "Using 'started_at' and 'ended_at' columns in 202403-bluebikes-tripdata.csv\n",
      "Using 'started_at' and 'ended_at' columns in 202404-bluebikes-tripdata.csv\n",
      "Using 'started_at' and 'ended_at' columns in 202405-bluebikes-tripdata.csv\n",
      "Using 'started_at' and 'ended_at' columns in 202402-bluebikes-tripdata.csv\n",
      "Using 'started_at' and 'ended_at' columns in 202408-bluebikes-tripdata.csv\n",
      "Using 'started_at' and 'ended_at' columns in 202312-bluebikes-tripdata.csv\n",
      "Using 'started_at' and 'ended_at' columns in 202311-bluebikes-tripdata.csv\n",
      "Using 'started_at' and 'ended_at' columns in 202401-bluebikes-tripdata.csv\n",
      "Using 'started_at' and 'ended_at' columns in 202406-bluebikes-tripdata.csv\n",
      "Using 'started_at' and 'ended_at' columns in 202304-bluebikes-tripdata.csv\n",
      "Using 'started_at' and 'ended_at' columns in 202309-bluebikes-tripdata.csv\n",
      "Using 'started_at' and 'ended_at' columns in 202410-bluebikes-tripdata.csv\n",
      "Using 'started_at' and 'ended_at' columns in 202307-bluebikes-tripdata.csv\n",
      "Using 'started_at' and 'ended_at' columns in 202306-bluebikes-tripdata.csv\n",
      "Using 'started_at' and 'ended_at' columns in 202411-bluebikes-tripdata.csv\n",
      "Using 'started_at' and 'ended_at' columns in 202412-bluebikes-tripdata.csv\n",
      "Using 'started_at' and 'ended_at' columns in 202308-bluebikes-tripdata.csv\n",
      "Using 'started_at' and 'ended_at' columns in 202305-bluebikes-tripdata.csv\n"
     ]
    },
    {
     "data": {
      "text/html": [
       "<div>\n",
       "<style scoped>\n",
       "    .dataframe tbody tr th:only-of-type {\n",
       "        vertical-align: middle;\n",
       "    }\n",
       "\n",
       "    .dataframe tbody tr th {\n",
       "        vertical-align: top;\n",
       "    }\n",
       "\n",
       "    .dataframe thead th {\n",
       "        text-align: right;\n",
       "    }\n",
       "</style>\n",
       "<table border=\"1\" class=\"dataframe\">\n",
       "  <thead>\n",
       "    <tr style=\"text-align: right;\">\n",
       "      <th></th>\n",
       "      <th>month</th>\n",
       "      <th>year</th>\n",
       "      <th>rides_total</th>\n",
       "      <th>avg_ride_length</th>\n",
       "    </tr>\n",
       "  </thead>\n",
       "  <tbody>\n",
       "    <tr>\n",
       "      <th>0</th>\n",
       "      <td>07</td>\n",
       "      <td>2024</td>\n",
       "      <td>542622</td>\n",
       "      <td>0 days 00:19:15.277085820</td>\n",
       "    </tr>\n",
       "    <tr>\n",
       "      <th>1</th>\n",
       "      <td>01</td>\n",
       "      <td>2025</td>\n",
       "      <td>162316</td>\n",
       "      <td>0 days 00:12:47.080784254</td>\n",
       "    </tr>\n",
       "    <tr>\n",
       "      <th>2</th>\n",
       "      <td>11</td>\n",
       "      <td>2022</td>\n",
       "      <td>290621</td>\n",
       "      <td>0 days 00:21:47.530517429</td>\n",
       "    </tr>\n",
       "    <tr>\n",
       "      <th>3</th>\n",
       "      <td>07</td>\n",
       "      <td>2020</td>\n",
       "      <td>259726</td>\n",
       "      <td>0 days 00:38:40.519126067</td>\n",
       "    </tr>\n",
       "    <tr>\n",
       "      <th>4</th>\n",
       "      <td>01</td>\n",
       "      <td>2021</td>\n",
       "      <td>71805</td>\n",
       "      <td>0 days 00:20:20.219710354</td>\n",
       "    </tr>\n",
       "  </tbody>\n",
       "</table>\n",
       "</div>"
      ],
      "text/plain": [
       "  month  year  rides_total           avg_ride_length\n",
       "0    07  2024       542622 0 days 00:19:15.277085820\n",
       "1    01  2025       162316 0 days 00:12:47.080784254\n",
       "2    11  2022       290621 0 days 00:21:47.530517429\n",
       "3    07  2020       259726 0 days 00:38:40.519126067\n",
       "4    01  2021        71805 0 days 00:20:20.219710354"
      ]
     },
     "execution_count": 57,
     "metadata": {},
     "output_type": "execute_result"
    }
   ],
   "source": [
    "bluebike = pd.DataFrame(columns=[\"month\", \"year\", \"rides_total\", \"avg_ride_length\"])\n",
    "\n",
    "months = []\n",
    "years = []\n",
    "rideCounts = []\n",
    "avgDurations = []\n",
    "\n",
    "filePathObj = Path('bluebike')\n",
    "for fileObj in filePathObj.iterdir():\n",
    "    if fileObj.is_file():\n",
    "        with open(fileObj, 'r') as file:\n",
    "            \n",
    "            year = fileObj.name[0:4]\n",
    "            month = fileObj.name[4:6]\n",
    "\n",
    "            df = pd.read_csv(fileObj)\n",
    "            \n",
    "            if 'starttime' in df.columns and 'stoptime' in df.columns:\n",
    "                start_col = 'starttime'\n",
    "                end_col = 'stoptime'\n",
    "            elif 'started_at' in df.columns and 'ended_at' in df.columns:\n",
    "                start_col = 'started_at'\n",
    "                end_col = 'ended_at'\n",
    "            else:\n",
    "            # Skip the CSV if neither of the expected column pairs is found\n",
    "                print(f\"Skipping {fileObj} as it doesn't have the expected columns.\")\n",
    "                continue\n",
    "\n",
    "            df[start_col] = pd.to_datetime(df[start_col])\n",
    "            df[end_col] = pd.to_datetime(df[end_col])\n",
    "\n",
    "            df['duration'] = df[end_col] - df[start_col]\n",
    "\n",
    "            avgDurations.append(df['duration'].mean())\n",
    "            rideCounts.append(len(df))\n",
    "            months.append(month)\n",
    "            years.append(year)\n",
    "\n",
    "bluebike[\"rides_total\"] = rideCounts\n",
    "bluebike[\"month\"] = months\n",
    "bluebike[\"year\"] = years\n",
    "bluebike[\"avg_ride_length\"] = avgDurations\n",
    "bluebike.head()\n"
   ]
  },
  {
   "cell_type": "markdown",
   "metadata": {},
   "source": [
    "Converts time for the ride lengths into a more legible format:"
   ]
  },
  {
   "cell_type": "code",
   "execution_count": 58,
   "metadata": {},
   "outputs": [
    {
     "data": {
      "text/html": [
       "<div>\n",
       "<style scoped>\n",
       "    .dataframe tbody tr th:only-of-type {\n",
       "        vertical-align: middle;\n",
       "    }\n",
       "\n",
       "    .dataframe tbody tr th {\n",
       "        vertical-align: top;\n",
       "    }\n",
       "\n",
       "    .dataframe thead th {\n",
       "        text-align: right;\n",
       "    }\n",
       "</style>\n",
       "<table border=\"1\" class=\"dataframe\">\n",
       "  <thead>\n",
       "    <tr style=\"text-align: right;\">\n",
       "      <th></th>\n",
       "      <th>month</th>\n",
       "      <th>year</th>\n",
       "      <th>rides_total</th>\n",
       "      <th>avg_ride_length</th>\n",
       "    </tr>\n",
       "  </thead>\n",
       "  <tbody>\n",
       "    <tr>\n",
       "      <th>0</th>\n",
       "      <td>07</td>\n",
       "      <td>2024</td>\n",
       "      <td>542622</td>\n",
       "      <td>1155.28</td>\n",
       "    </tr>\n",
       "    <tr>\n",
       "      <th>1</th>\n",
       "      <td>01</td>\n",
       "      <td>2025</td>\n",
       "      <td>162316</td>\n",
       "      <td>767.08</td>\n",
       "    </tr>\n",
       "    <tr>\n",
       "      <th>2</th>\n",
       "      <td>11</td>\n",
       "      <td>2022</td>\n",
       "      <td>290621</td>\n",
       "      <td>1307.53</td>\n",
       "    </tr>\n",
       "    <tr>\n",
       "      <th>3</th>\n",
       "      <td>07</td>\n",
       "      <td>2020</td>\n",
       "      <td>259726</td>\n",
       "      <td>2320.52</td>\n",
       "    </tr>\n",
       "    <tr>\n",
       "      <th>4</th>\n",
       "      <td>01</td>\n",
       "      <td>2021</td>\n",
       "      <td>71805</td>\n",
       "      <td>1220.22</td>\n",
       "    </tr>\n",
       "  </tbody>\n",
       "</table>\n",
       "</div>"
      ],
      "text/plain": [
       "  month  year  rides_total  avg_ride_length\n",
       "0    07  2024       542622          1155.28\n",
       "1    01  2025       162316           767.08\n",
       "2    11  2022       290621          1307.53\n",
       "3    07  2020       259726          2320.52\n",
       "4    01  2021        71805          1220.22"
      ]
     },
     "execution_count": 58,
     "metadata": {},
     "output_type": "execute_result"
    }
   ],
   "source": [
    "def makeLegibleTime(td):\n",
    "    total_seconds = td.total_seconds()\n",
    "    hours = total_seconds // 3600\n",
    "    minutes = (total_seconds % 3600) // 60\n",
    "    seconds = total_seconds % 60\n",
    "    return f\"{int(hours):02}:{int(minutes):02}:{seconds:05.2f}\"\n",
    "\n",
    "bluebike['avg_ride_length'] = pd.to_timedelta(bluebike['avg_ride_length'])\n",
    "bluebike['avg_ride_length'] = bluebike['avg_ride_length'].apply(makeLegibleTime)\n",
    "bluebike['avg_ride_length'] = pd.to_timedelta(bluebike['avg_ride_length']).dt.total_seconds()\n",
    "\n",
    "bluebike.head()"
   ]
  },
  {
   "cell_type": "markdown",
   "metadata": {},
   "source": [
    "Converting the months and years into datetime objects, and reorganizing the data frame so that each row is a given date:"
   ]
  },
  {
   "cell_type": "code",
   "execution_count": 59,
   "metadata": {},
   "outputs": [],
   "source": [
    "mbta['month_year'] = pd.to_datetime(mbta[['year', 'month']].assign(day=1))\n",
    "bluebike['month_year'] = pd.to_datetime(bluebike[['year', 'month']].assign(day=1))"
   ]
  },
  {
   "cell_type": "code",
   "execution_count": null,
   "metadata": {},
   "outputs": [],
   "source": [
    "\n",
    "bluebike['month_of_service'] = pd.to_datetime(bluebike[['year', 'month']].assign(day=1))\n",
    "\n",
    "bluebike.drop(['month', 'year', 'month_year'], axis=1, inplace=True)\n",
    "bluebike = bluebike.rename(columns={'rides_total': 'bluebike_riders',\n",
    "                                    'avg_ride_length': 'avg_bluebike_length'})\n",
    "\n",
    "col_order = ['month_of_service', 'bluebike_riders', 'avg_bluebike_length']\n",
    "bluebike = bluebike[col_order]\n",
    "bluebike.to_csv('bluebike.csv', index=False)\n"
   ]
  },
  {
   "cell_type": "code",
   "execution_count": 34,
   "metadata": {},
   "outputs": [],
   "source": [
    "wide_df['month_of_service'] = pd.to_datetime(wide_df['month_of_service']).dt.date\n",
    "bluebike['month_of_service'] = pd.to_datetime(bluebike['month_of_service']).dt.date"
   ]
  },
  {
   "cell_type": "code",
   "execution_count": 55,
   "metadata": {},
   "outputs": [],
   "source": [
    "merged_df = pd.merge(wide_df, bluebike, on='month_of_service')\n",
    "merged_df['month_of_service'] = pd.to_datetime(merged_df['month_of_service'])"
   ]
  },
  {
   "cell_type": "markdown",
   "metadata": {},
   "source": [
    "Adding a column to indicate when subsidies were introduced:"
   ]
  },
  {
   "cell_type": "code",
   "execution_count": 57,
   "metadata": {},
   "outputs": [],
   "source": [
    "subsidy = datetime(2023, 10, 1).date()\n",
    "subsidy = pd.to_datetime(subsidy)\n",
    "merged_df['year'] = merged_df['month_of_service'].dt.year\n",
    "merged_df['bluebike_subsidy'] = (merged_df['month_of_service'] >= subsidy).astype(int)\n",
    "\n",
    "merged_df.to_csv('merged_mbta_bluebike.csv',index=False)"
   ]
  }
 ],
 "metadata": {
  "kernelspec": {
   "display_name": ".venv",
   "language": "python",
   "name": "python3"
  },
  "language_info": {
   "codemirror_mode": {
    "name": "ipython",
    "version": 3
   },
   "file_extension": ".py",
   "mimetype": "text/x-python",
   "name": "python",
   "nbconvert_exporter": "python",
   "pygments_lexer": "ipython3",
   "version": "3.13.1"
  }
 },
 "nbformat": 4,
 "nbformat_minor": 2
}
